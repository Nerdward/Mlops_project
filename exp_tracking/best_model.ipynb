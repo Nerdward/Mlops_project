{
 "cells": [
  {
   "cell_type": "markdown",
   "metadata": {},
   "source": [
    "### MLflow's Model Registry"
   ]
  },
  {
   "cell_type": "code",
   "execution_count": 1,
   "metadata": {},
   "outputs": [],
   "source": [
    "from mlflow.tracking import MlflowClient\n",
    "\n",
    "\n",
    "MLFLOW_TRACKING_URI = \"http://127.0.0.1:5000\"\n"
   ]
  },
  {
   "cell_type": "code",
   "execution_count": 2,
   "metadata": {},
   "outputs": [
    {
     "data": {
      "text/plain": [
       "[<Experiment: artifact_location='./artifacts/0', experiment_id='0', lifecycle_stage='active', name='Default', tags={}>,\n",
       " <Experiment: artifact_location='./artifacts/1', experiment_id='1', lifecycle_stage='active', name='Xgboost Mlops', tags={}>]"
      ]
     },
     "execution_count": 2,
     "metadata": {},
     "output_type": "execute_result"
    }
   ],
   "source": [
    "client = MlflowClient(tracking_uri=MLFLOW_TRACKING_URI)\n",
    "\n",
    "client.list_experiments()"
   ]
  },
  {
   "cell_type": "code",
   "execution_count": 3,
   "metadata": {},
   "outputs": [],
   "source": [
    "from mlflow.entities import ViewType\n",
    "\n",
    "best_run = client.search_runs(\n",
    "    experiment_ids='1',\n",
    "    filter_string=\"\",\n",
    "    run_view_type=ViewType.ACTIVE_ONLY,\n",
    "    max_results=1,\n",
    "    order_by=[\"metrics.rmse ASC\"]\n",
    ")"
   ]
  },
  {
   "cell_type": "code",
   "execution_count": 4,
   "metadata": {},
   "outputs": [
    {
     "name": "stdout",
     "output_type": "stream",
     "text": [
      "{'learning_rate': '0.42649323727247074', 'max_depth': '4', 'min_child_weight': '2.823388102868533', 'objective': 'reg:squarederror', 'reg_alpha': '0.08394020560827088', 'reg_lambda': '0.1989734719817237', 'seed': '42'}\n"
     ]
    }
   ],
   "source": [
    "# for run in best_run:\n",
    "#     print(run.data.params)\n",
    "print(best_run[0].data.params)"
   ]
  },
  {
   "cell_type": "code",
   "execution_count": 5,
   "metadata": {},
   "outputs": [
    {
     "name": "stdout",
     "output_type": "stream",
     "text": [
      "run id: 3d3baa9065634314ad797f09905d184a, rmse: 28827.128705456813 \n"
     ]
    }
   ],
   "source": [
    "# for run in best_run:\n",
    "#     best_run_id = run.info.run_id\n",
    "#     print(f\"run id: {run.info.run_id}, rmse: {run.data.metrics['rmse']} \")\n",
    "print(f\"run id: {best_run[0].info.run_id}, rmse: {best_run[0].data.metrics['rmse']} \")"
   ]
  },
  {
   "cell_type": "markdown",
   "metadata": {},
   "source": [
    "### Interacting with the Model Registry\n",
    "\n",
    "1. Register the best model with name house-price-regressor\n",
    "2. Transition the model to \"Production\""
   ]
  },
  {
   "cell_type": "code",
   "execution_count": 6,
   "metadata": {},
   "outputs": [],
   "source": [
    "import mlflow\n",
    "\n",
    "mlflow.set_tracking_uri(MLFLOW_TRACKING_URI)"
   ]
  },
  {
   "cell_type": "code",
   "execution_count": 7,
   "metadata": {},
   "outputs": [
    {
     "name": "stderr",
     "output_type": "stream",
     "text": [
      "Registered model 'house-price-regressor' already exists. Creating a new version of this model...\n",
      "2022/08/21 19:05:51 INFO mlflow.tracking._model_registry.client: Waiting up to 300 seconds for model version to finish creation.                     Model name: house-price-regressor, version 2\n",
      "Created version '2' of model 'house-price-regressor'.\n"
     ]
    },
    {
     "data": {
      "text/plain": [
       "<ModelVersion: creation_timestamp=1661108751915, current_stage='None', description='', last_updated_timestamp=1661108751915, name='house-price-regressor', run_id='3d3baa9065634314ad797f09905d184a', run_link='', source='./artifacts/1/3d3baa9065634314ad797f09905d184a/artifacts/model', status='READY', status_message='', tags={}, user_id='', version='2'>"
      ]
     },
     "execution_count": 7,
     "metadata": {},
     "output_type": "execute_result"
    }
   ],
   "source": [
    "model_uri = f\"runs:/{best_run[0].info.run_id}/model\"\n",
    "mlflow.register_model(model_uri=model_uri, name=\"house-price-regressor\")"
   ]
  },
  {
   "cell_type": "code",
   "execution_count": 8,
   "metadata": {},
   "outputs": [],
   "source": [
    "model_name = \"house-price-regressor\"\n",
    "latest_versions = client.get_latest_versions(name=model_name)"
   ]
  },
  {
   "cell_type": "code",
   "execution_count": 9,
   "metadata": {},
   "outputs": [
    {
     "data": {
      "text/plain": [
       "[<ModelVersion: creation_timestamp=1660583052075, current_stage='Production', description='', last_updated_timestamp=1660583111086, name='house-price-regressor', run_id='5654d672c72347ee8beb174c4ca77431', run_link='', source='./artifacts/1/5654d672c72347ee8beb174c4ca77431/artifacts/model', status='READY', status_message='', tags={}, user_id='', version='1'>,\n",
       " <ModelVersion: creation_timestamp=1661108751915, current_stage='None', description='', last_updated_timestamp=1661108751915, name='house-price-regressor', run_id='3d3baa9065634314ad797f09905d184a', run_link='', source='./artifacts/1/3d3baa9065634314ad797f09905d184a/artifacts/model', status='READY', status_message='', tags={}, user_id='', version='2'>]"
      ]
     },
     "execution_count": 9,
     "metadata": {},
     "output_type": "execute_result"
    }
   ],
   "source": [
    "latest_versions"
   ]
  },
  {
   "cell_type": "code",
   "execution_count": 10,
   "metadata": {},
   "outputs": [
    {
     "data": {
      "text/plain": [
       "<ModelVersion: creation_timestamp=1661108751915, current_stage='Production', description='', last_updated_timestamp=1661108786295, name='house-price-regressor', run_id='3d3baa9065634314ad797f09905d184a', run_link='', source='./artifacts/1/3d3baa9065634314ad797f09905d184a/artifacts/model', status='READY', status_message='', tags={}, user_id='', version='2'>"
      ]
     },
     "execution_count": 10,
     "metadata": {},
     "output_type": "execute_result"
    }
   ],
   "source": [
    "model_version = 2\n",
    "stage = \"Production\"\n",
    "client.transition_model_version_stage(\n",
    "    name=model_name,\n",
    "    version=model_version,\n",
    "    stage=stage\n",
    ")"
   ]
  },
  {
   "cell_type": "code",
   "execution_count": null,
   "metadata": {},
   "outputs": [],
   "source": []
  }
 ],
 "metadata": {
  "kernelspec": {
   "display_name": "Python 3.9.12 ('exp-tracking-env')",
   "language": "python",
   "name": "python3"
  },
  "language_info": {
   "codemirror_mode": {
    "name": "ipython",
    "version": 3
   },
   "file_extension": ".py",
   "mimetype": "text/x-python",
   "name": "python",
   "nbconvert_exporter": "python",
   "pygments_lexer": "ipython3",
   "version": "3.9.12"
  },
  "orig_nbformat": 4,
  "vscode": {
   "interpreter": {
    "hash": "dfde4a7c93aa30fb160a9098b477ba092a16b55012187c0d52e213619febf711"
   }
  }
 },
 "nbformat": 4,
 "nbformat_minor": 2
}
