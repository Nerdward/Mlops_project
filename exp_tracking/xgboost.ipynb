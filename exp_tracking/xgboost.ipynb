{
 "cells": [
  {
   "cell_type": "markdown",
   "metadata": {
    "_cell_guid": "564d7a39-443c-4dd6-970c-b0fa5df27d27",
    "_uuid": "00791a3147a13a5897e29cb9c4ea0c0a415fd992"
   },
   "source": [
    "We will start with the data pre-loaded into **train_X**, **test_X**, **train_y**, **test_y**."
   ]
  },
  {
   "cell_type": "code",
   "execution_count": 2,
   "metadata": {},
   "outputs": [],
   "source": [
    "import pandas as pd\n",
    "from sklearn.model_selection import train_test_split\n",
    "import mlflow\n",
    "\n",
    "mlflow.set_tracking_uri(\"http://127.0.0.1:5000\")"
   ]
  },
  {
   "cell_type": "code",
   "execution_count": 4,
   "metadata": {},
   "outputs": [
    {
     "data": {
      "text/plain": [
       "[<Experiment: artifact_location='./artifacts/0', experiment_id='0', lifecycle_stage='active', name='Default', tags={}>,\n",
       " <Experiment: artifact_location='./artifacts/1', experiment_id='1', lifecycle_stage='active', name='Xgboost Mlops', tags={}>]"
      ]
     },
     "execution_count": 4,
     "metadata": {},
     "output_type": "execute_result"
    }
   ],
   "source": [
    "mlflow.list_experiments()"
   ]
  },
  {
   "cell_type": "code",
   "execution_count": 5,
   "metadata": {},
   "outputs": [
    {
     "name": "stderr",
     "output_type": "stream",
     "text": [
      "2022/08/24 09:17:52 INFO mlflow.tracking.fluent: Experiment with name 'house-price-predictor' does not exist. Creating a new experiment.\n"
     ]
    },
    {
     "data": {
      "text/plain": [
       "<Experiment: artifact_location='./artifacts/2', experiment_id='2', lifecycle_stage='active', name='house-price-predictor', tags={}>"
      ]
     },
     "execution_count": 5,
     "metadata": {},
     "output_type": "execute_result"
    }
   ],
   "source": [
    "mlflow.set_experiment(\"Xgboost Mlops\")"
   ]
  },
  {
   "cell_type": "code",
   "execution_count": 27,
   "metadata": {
    "_cell_guid": "5ccb0b52-f433-4372-8a52-45867798bf52",
    "_kg_hide-input": false,
    "_uuid": "404e28f23a168f94ffba7d1259cea21281ca0b28",
    "tags": []
   },
   "outputs": [],
   "source": [
    "\n",
    "# from sklearn.preprocessing import Imputer\n",
    "\n",
    "data = pd.read_csv('train.csv')\n",
    "data.dropna(axis=0, subset=['SalePrice'], inplace=True)\n",
    "y = data.SalePrice\n",
    "X = data.drop(['Id','SalePrice'], axis=1).select_dtypes(exclude=['object'])\n",
    "train_X, test_X, train_y, test_y = train_test_split(X, y, test_size=0.25)\n",
    "\n",
    "# my_imputer = Imputer()\n",
    "# train_X = my_imputer.fit_transform(train_X)\n",
    "# test_X = my_imputer.transform(test_X)\n"
   ]
  },
  {
   "cell_type": "code",
   "execution_count": 29,
   "metadata": {},
   "outputs": [
    {
     "data": {
      "text/plain": [
       "MSSubClass         int64\n",
       "LotFrontage      float64\n",
       "LotArea            int64\n",
       "OverallQual        int64\n",
       "OverallCond        int64\n",
       "YearBuilt          int64\n",
       "YearRemodAdd       int64\n",
       "MasVnrArea       float64\n",
       "BsmtFinSF1         int64\n",
       "BsmtFinSF2         int64\n",
       "BsmtUnfSF          int64\n",
       "TotalBsmtSF        int64\n",
       "1stFlrSF           int64\n",
       "2ndFlrSF           int64\n",
       "LowQualFinSF       int64\n",
       "GrLivArea          int64\n",
       "BsmtFullBath       int64\n",
       "BsmtHalfBath       int64\n",
       "FullBath           int64\n",
       "HalfBath           int64\n",
       "BedroomAbvGr       int64\n",
       "KitchenAbvGr       int64\n",
       "TotRmsAbvGrd       int64\n",
       "Fireplaces         int64\n",
       "GarageYrBlt      float64\n",
       "GarageCars         int64\n",
       "GarageArea         int64\n",
       "WoodDeckSF         int64\n",
       "OpenPorchSF        int64\n",
       "EnclosedPorch      int64\n",
       "3SsnPorch          int64\n",
       "ScreenPorch        int64\n",
       "PoolArea           int64\n",
       "MiscVal            int64\n",
       "MoSold             int64\n",
       "YrSold             int64\n",
       "dtype: object"
      ]
     },
     "execution_count": 29,
     "metadata": {},
     "output_type": "execute_result"
    }
   ],
   "source": [
    "train_X.dtypes"
   ]
  },
  {
   "cell_type": "code",
   "execution_count": 10,
   "metadata": {},
   "outputs": [],
   "source": [
    "data = pd.read_csv('test.csv')"
   ]
  },
  {
   "cell_type": "code",
   "execution_count": 24,
   "metadata": {},
   "outputs": [
    {
     "data": {
      "text/plain": [
       "'{\"Id\":1461,\"MSSubClass\":20,\"MSZoning\":\"RH\",\"LotFrontage\":80.0,\"LotArea\":11622,\"Street\":\"Pave\",\"Alley\":null,\"LotShape\":\"Reg\",\"LandContour\":\"Lvl\",\"Utilities\":\"AllPub\",\"LotConfig\":\"Inside\",\"LandSlope\":\"Gtl\",\"Neighborhood\":\"NAmes\",\"Condition1\":\"Feedr\",\"Condition2\":\"Norm\",\"BldgType\":\"1Fam\",\"HouseStyle\":\"1Story\",\"OverallQual\":5,\"OverallCond\":6,\"YearBuilt\":1961,\"YearRemodAdd\":1961,\"RoofStyle\":\"Gable\",\"RoofMatl\":\"CompShg\",\"Exterior1st\":\"VinylSd\",\"Exterior2nd\":\"VinylSd\",\"MasVnrType\":\"None\",\"MasVnrArea\":0.0,\"ExterQual\":\"TA\",\"ExterCond\":\"TA\",\"Foundation\":\"CBlock\",\"BsmtQual\":\"TA\",\"BsmtCond\":\"TA\",\"BsmtExposure\":\"No\",\"BsmtFinType1\":\"Rec\",\"BsmtFinSF1\":468.0,\"BsmtFinType2\":\"LwQ\",\"BsmtFinSF2\":144.0,\"BsmtUnfSF\":270.0,\"TotalBsmtSF\":882.0,\"Heating\":\"GasA\",\"HeatingQC\":\"TA\",\"CentralAir\":\"Y\",\"Electrical\":\"SBrkr\",\"1stFlrSF\":896,\"2ndFlrSF\":0,\"LowQualFinSF\":0,\"GrLivArea\":896,\"BsmtFullBath\":0.0,\"BsmtHalfBath\":0.0,\"FullBath\":1,\"HalfBath\":0,\"BedroomAbvGr\":2,\"KitchenAbvGr\":1,\"KitchenQual\":\"TA\",\"TotRmsAbvGrd\":5,\"Functional\":\"Typ\",\"Fireplaces\":0,\"FireplaceQu\":null,\"GarageType\":\"Attchd\",\"GarageYrBlt\":1961.0,\"GarageFinish\":\"Unf\",\"GarageCars\":1.0,\"GarageArea\":730.0,\"GarageQual\":\"TA\",\"GarageCond\":\"TA\",\"PavedDrive\":\"Y\",\"WoodDeckSF\":140,\"OpenPorchSF\":0,\"EnclosedPorch\":0,\"3SsnPorch\":0,\"ScreenPorch\":120,\"PoolArea\":0,\"PoolQC\":null,\"Fence\":\"MnPrv\",\"MiscFeature\":null,\"MiscVal\":0,\"MoSold\":6,\"YrSold\":2010,\"SaleType\":\"WD\",\"SaleCondition\":\"Normal\"}'"
      ]
     },
     "execution_count": 24,
     "metadata": {},
     "output_type": "execute_result"
    }
   ],
   "source": [
    "data.iloc[0].to_json()"
   ]
  },
  {
   "cell_type": "markdown",
   "metadata": {
    "_cell_guid": "622a2efe-1abf-4da3-a96c-3d44b6a6b66e",
    "_uuid": "dff675a1dd68320a6956e7814b34c096a7a6b2c7"
   },
   "source": [
    "We build and fit a model just as we would in scikit-learn."
   ]
  },
  {
   "cell_type": "code",
   "execution_count": 5,
   "metadata": {},
   "outputs": [],
   "source": [
    "import xgboost as xgb"
   ]
  },
  {
   "cell_type": "code",
   "execution_count": 6,
   "metadata": {},
   "outputs": [],
   "source": [
    "from hyperopt import fmin, tpe, hp, STATUS_OK, Trials\n",
    "from hyperopt.pyll import scope\n",
    "from sklearn.metrics import mean_squared_error"
   ]
  },
  {
   "cell_type": "code",
   "execution_count": 7,
   "metadata": {},
   "outputs": [],
   "source": [
    "mlflow.xgboost.autolog()"
   ]
  },
  {
   "cell_type": "code",
   "execution_count": 8,
   "metadata": {},
   "outputs": [],
   "source": [
    "train = xgb.DMatrix(train_X, label=train_y)\n",
    "valid = xgb.DMatrix(test_X, label=test_y) "
   ]
  },
  {
   "cell_type": "code",
   "execution_count": 19,
   "metadata": {
    "_cell_guid": "cd8dedb3-c968-46eb-a714-368543067f82",
    "_kg_hide-output": true,
    "_uuid": "4989d6fc83a32eefcf968ada8a24539774c0353d",
    "tags": []
   },
   "outputs": [],
   "source": [
    "def objective(params):\n",
    "    with mlflow.start_run():\n",
    "        # mlflow.set_tag(\"model\", \"xgboost\")\n",
    "        # mlflow.log_params(params)\n",
    "        booster = xgb.train(\n",
    "            params=params,\n",
    "            dtrain=train,\n",
    "            num_boost_round=1000,\n",
    "            evals=[(valid, 'validation')],\n",
    "            early_stopping_rounds=50\n",
    "        )\n",
    "        y_pred = booster.predict(valid)\n",
    "        rmse = mean_squared_error(test_y, y_pred, squared=False)\n",
    "        mlflow.log_metric(\"rmse\", rmse)\n",
    "\n",
    "    return {'loss': rmse, 'status': STATUS_OK}\n"
   ]
  },
  {
   "cell_type": "code",
   "execution_count": null,
   "metadata": {},
   "outputs": [],
   "source": [
    "search_space = {\n",
    "    'max_depth': scope.int(hp.quniform('max_depth', 4, 100, 1)),\n",
    "    'learning_rate': hp.loguniform('learning_rate', -3, 0),\n",
    "    'reg_alpha': hp.loguniform('reg_alpha', -5, -1),\n",
    "    'reg_lambda': hp.loguniform('reg_lambda', -6, -1),\n",
    "    'min_child_weight': hp.loguniform('min_child_weight', -1, 3),\n",
    "    'objective': 'reg:squarederror',\n",
    "    'seed': 42\n",
    "}\n",
    "\n",
    "best_result = fmin(\n",
    "    fn=objective,\n",
    "    space=search_space,\n",
    "    algo=tpe.suggest,\n",
    "    max_evals=50,\n",
    "    trials=Trials()\n",
    ")\n"
   ]
  },
  {
   "cell_type": "markdown",
   "metadata": {
    "_cell_guid": "07ea4042-87fc-492c-947d-39879bed8ae4",
    "_uuid": "7dd364e097f41d05b3e6b3c190ec0f90d95229b6"
   },
   "source": [
    "### Train best model"
   ]
  },
  {
   "cell_type": "code",
   "execution_count": 12,
   "metadata": {},
   "outputs": [
    {
     "name": "stdout",
     "output_type": "stream",
     "text": [
      "[0]\tvalidation-rmse:119564.69310\n",
      "[1]\tvalidation-rmse:76398.16653\n",
      "[2]\tvalidation-rmse:52530.96600\n",
      "[3]\tvalidation-rmse:40110.38098\n",
      "[4]\tvalidation-rmse:34256.56197\n",
      "[5]\tvalidation-rmse:31581.67299\n",
      "[6]\tvalidation-rmse:30945.68676\n",
      "[7]\tvalidation-rmse:30049.62556\n",
      "[8]\tvalidation-rmse:29251.87455\n",
      "[9]\tvalidation-rmse:28921.00821\n",
      "[10]\tvalidation-rmse:28552.13384\n",
      "[11]\tvalidation-rmse:28432.95239\n",
      "[12]\tvalidation-rmse:28752.21077\n",
      "[13]\tvalidation-rmse:28701.93433\n",
      "[14]\tvalidation-rmse:28725.42415\n",
      "[15]\tvalidation-rmse:29038.95417\n",
      "[16]\tvalidation-rmse:29027.25971\n",
      "[17]\tvalidation-rmse:28828.82494\n",
      "[18]\tvalidation-rmse:28634.54927\n",
      "[19]\tvalidation-rmse:28665.19839\n",
      "[20]\tvalidation-rmse:28612.91402\n",
      "[21]\tvalidation-rmse:28646.70754\n",
      "[22]\tvalidation-rmse:28670.67273\n",
      "[23]\tvalidation-rmse:28876.77747\n",
      "[24]\tvalidation-rmse:28844.61152\n",
      "[25]\tvalidation-rmse:28750.79896\n",
      "[26]\tvalidation-rmse:28808.15076\n",
      "[27]\tvalidation-rmse:28754.18357\n",
      "[28]\tvalidation-rmse:28687.95048\n",
      "[29]\tvalidation-rmse:28662.37963\n",
      "[30]\tvalidation-rmse:28685.51977\n",
      "[31]\tvalidation-rmse:28638.28874\n",
      "[32]\tvalidation-rmse:28401.50783\n",
      "[33]\tvalidation-rmse:28416.82848\n",
      "[34]\tvalidation-rmse:28482.97101\n",
      "[35]\tvalidation-rmse:28540.07852\n",
      "[36]\tvalidation-rmse:28539.38884\n",
      "[37]\tvalidation-rmse:28541.94508\n",
      "[38]\tvalidation-rmse:28572.87505\n",
      "[39]\tvalidation-rmse:28552.03436\n",
      "[40]\tvalidation-rmse:28563.41510\n",
      "[41]\tvalidation-rmse:28540.79857\n",
      "[42]\tvalidation-rmse:28541.70140\n",
      "[43]\tvalidation-rmse:28488.66292\n",
      "[44]\tvalidation-rmse:28491.94787\n",
      "[45]\tvalidation-rmse:28539.65209\n",
      "[46]\tvalidation-rmse:28569.93822\n",
      "[47]\tvalidation-rmse:28583.43017\n",
      "[48]\tvalidation-rmse:28569.96085\n",
      "[49]\tvalidation-rmse:28555.09171\n",
      "[50]\tvalidation-rmse:28547.73109\n",
      "[51]\tvalidation-rmse:28595.71859\n",
      "[52]\tvalidation-rmse:28614.75735\n",
      "[53]\tvalidation-rmse:28631.10909\n",
      "[54]\tvalidation-rmse:28643.18410\n",
      "[55]\tvalidation-rmse:28583.42345\n",
      "[56]\tvalidation-rmse:28597.87100\n",
      "[57]\tvalidation-rmse:28609.33661\n",
      "[58]\tvalidation-rmse:28622.27990\n",
      "[59]\tvalidation-rmse:28682.79401\n",
      "[60]\tvalidation-rmse:28692.23647\n",
      "[61]\tvalidation-rmse:28681.44742\n",
      "[62]\tvalidation-rmse:28668.04925\n",
      "[63]\tvalidation-rmse:28727.07598\n",
      "[64]\tvalidation-rmse:28744.29778\n",
      "[65]\tvalidation-rmse:28729.51569\n",
      "[66]\tvalidation-rmse:28720.75037\n",
      "[67]\tvalidation-rmse:28790.35158\n",
      "[68]\tvalidation-rmse:28824.78574\n",
      "[69]\tvalidation-rmse:28814.96148\n",
      "[70]\tvalidation-rmse:28781.62033\n",
      "[71]\tvalidation-rmse:28803.89130\n",
      "[72]\tvalidation-rmse:28792.68279\n",
      "[73]\tvalidation-rmse:28788.94431\n",
      "[74]\tvalidation-rmse:28808.58108\n",
      "[75]\tvalidation-rmse:28827.72486\n",
      "[76]\tvalidation-rmse:28810.44213\n",
      "[77]\tvalidation-rmse:28866.57446\n",
      "[78]\tvalidation-rmse:28868.78757\n",
      "[79]\tvalidation-rmse:28841.57187\n",
      "[80]\tvalidation-rmse:28856.16248\n",
      "[81]\tvalidation-rmse:28799.64813\n",
      "[82]\tvalidation-rmse:28827.12882\n"
     ]
    },
    {
     "name": "stderr",
     "output_type": "stream",
     "text": [
      "2022/08/18 10:35:58 WARNING mlflow.utils.autologging_utils: MLflow autologging encountered a warning: \"/home/azureuser/anaconda3/envs/exp-tracking-env/lib/python3.9/site-packages/mlflow/models/signature.py:129: UserWarning: Hint: Inferred schema contains integer column(s). Integer columns in Python cannot represent missing values. If your input data contains missing values at inference time, it will be encoded as floats and will cause a schema enforcement error. The best way to avoid this problem is to infer the model schema based on a realistic data sample (training dataset) that includes missing values. Alternatively, you can declare integer columns as doubles (float64) whenever these columns may have missing values. See `Handling Integers With Missing Values <https://www.mlflow.org/docs/latest/models.html#handling-integers-with-missing-values>`_ for more details.\"\n",
      "2022/08/18 10:36:00 WARNING mlflow.utils.autologging_utils: Encountered unexpected error during xgboost autologging: The following failures occurred while performing one or more logging operations: [MlflowException('Failed to perform one or more operations on the run with ID 3d3baa9065634314ad797f09905d184a. Failed operations: [RestException(\"INVALID_PARAMETER_VALUE: Changing param values is not allowed. Params were already logged=\\'[{\\'key\\': \\'num_boost_round\\', \\'old_value\\': None, \\'new_value\\': \\'1000\\'}, {\\'key\\': \\'early_stopping_rounds\\', \\'old_value\\': None, \\'new_value\\': \\'50\\'}, {\\'key\\': \\'maximize\\', \\'old_value\\': None, \\'new_value\\': \\'None\\'}, {\\'key\\': \\'verbose_eval\\', \\'old_value\\': None, \\'new_value\\': \\'True\\'}, {\\'key\\': \\'custom_metric\\', \\'old_value\\': None, \\'new_value\\': \\'None\\'}]\\' for run ID=\\'3d3baa9065634314ad797f09905d184a\\'.\")]')]\n"
     ]
    }
   ],
   "source": [
    "with mlflow.start_run():\n",
    "    \n",
    "    train = xgb.DMatrix(train_X, label=train_y)\n",
    "    valid = xgb.DMatrix(test_X, label=test_y) \n",
    "\n",
    "    best_params = {'learning_rate': '0.42649323727247074', \n",
    "                    'max_depth': '4',\n",
    "                    'min_child_weight': '2.823388102868533',\n",
    "                    'objective': 'reg:squarederror',\n",
    "                    'reg_alpha': '0.08394020560827088',\n",
    "                    'reg_lambda': '0.1989734719817237',\n",
    "                    'seed': '42'\n",
    "                    }\n",
    "\n",
    "    mlflow.log_params(best_params)\n",
    "\n",
    "    booster = xgb.train(\n",
    "        params=best_params,\n",
    "        dtrain=train,\n",
    "        num_boost_round=1000,\n",
    "        evals=[(valid, 'validation')],\n",
    "        early_stopping_rounds=50\n",
    "    )\n",
    "\n",
    "    y_pred = booster.predict(valid)\n",
    "    rmse = mean_squared_error(test_y, y_pred, squared=False)\n",
    "    mlflow.log_metric(\"rmse\", rmse)\n",
    "\n",
    "    mlflow.xgboost.log_model(booster, artifact_path=\"models_mlflow\")\n"
   ]
  },
  {
   "cell_type": "code",
   "execution_count": null,
   "metadata": {},
   "outputs": [],
   "source": []
  }
 ],
 "metadata": {
  "kernelspec": {
   "display_name": "Python 3.9.12 ('exp-tracking-env')",
   "language": "python",
   "name": "python3"
  },
  "language_info": {
   "codemirror_mode": {
    "name": "ipython",
    "version": 3
   },
   "file_extension": ".py",
   "mimetype": "text/x-python",
   "name": "python",
   "nbconvert_exporter": "python",
   "pygments_lexer": "ipython3",
   "version": "3.9.12"
  },
  "vscode": {
   "interpreter": {
    "hash": "dfde4a7c93aa30fb160a9098b477ba092a16b55012187c0d52e213619febf711"
   }
  }
 },
 "nbformat": 4,
 "nbformat_minor": 4
}
